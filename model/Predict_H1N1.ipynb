{
  "cells": [
    {
      "cell_type": "markdown",
      "metadata": {
        "id": "SbBIfbh5UXXV"
      },
      "source": [
        "# **H1N1**"
      ]
    },
    {
      "cell_type": "code",
      "execution_count": null,
      "metadata": {
        "id": "M4aVSd7pQt0c"
      },
      "outputs": [],
      "source": [
        "!pip install catboost"
      ]
    },
    {
      "cell_type": "code",
      "execution_count": null,
      "metadata": {
        "id": "A-pAM3CAQgrV"
      },
      "outputs": [],
      "source": [
        "import numpy as np\n",
        "import matplotlib.pyplot as plt\n",
        "import pandas as pd\n",
        "import seaborn as sns\n",
        "from sklearn.cluster import KMeans\n",
        "from sklearn.model_selection import StratifiedKFold,train_test_split,KFold\n",
        "from sklearn.ensemble import RandomForestClassifier,ExtraTreesClassifier\n",
        "from xgboost import XGBClassifier\n",
        "from lightgbm import LGBMClassifier\n",
        "from sklearn.metrics import roc_auc_score\n",
        "from catboost import Pool,CatBoostClassifier\n",
        "import warnings"
      ]
    },
    {
      "cell_type": "code",
      "execution_count": null,
      "metadata": {
        "id": "gXb8-BCPQgrY"
      },
      "outputs": [],
      "source": [
        "def freq_enc(df,cols):\n",
        "    for col in cols:\n",
        "        df[col] = df[col].map(df[col].value_counts().to_dict())/len(df)\n",
        "    return df"
      ]
    },
    {
      "cell_type": "code",
      "execution_count": null,
      "metadata": {
        "id": "La1iekZUQgrZ"
      },
      "outputs": [],
      "source": [
        "train_set = pd.read_csv('/content/drive/MyDrive/Data mining assignment/training_set_features.csv')\n",
        "train_label = pd.read_csv('/content/drive/MyDrive/Data mining assignment/training_set_labels.csv')\n",
        "test_set = pd.read_csv('/content/drive/MyDrive/Data mining assignment/test_set_features.csv')"
      ]
    },
    {
      "cell_type": "code",
      "execution_count": null,
      "metadata": {
        "colab": {
          "base_uri": "https://localhost:8080/"
        },
        "id": "ia1c2IXxs4hY",
        "outputId": "7b6eac62-0151-48eb-9604-b6c17d74e610"
      },
      "outputs": [
        {
          "data": {
            "text/plain": [
              "(26707, 36)"
            ]
          },
          "execution_count": 5,
          "metadata": {},
          "output_type": "execute_result"
        }
      ],
      "source": [
        "train_set.shape"
      ]
    },
    {
      "cell_type": "code",
      "execution_count": null,
      "metadata": {
        "colab": {
          "base_uri": "https://localhost:8080/"
        },
        "id": "mt3EWi27swGV",
        "outputId": "95d6fc7c-a889-4f4a-ef15-2c84de1eb8cd"
      },
      "outputs": [
        {
          "data": {
            "text/plain": [
              "respondent_id                      0\n",
              "h1n1_concern                      92\n",
              "h1n1_knowledge                   116\n",
              "behavioral_antiviral_meds         71\n",
              "behavioral_avoidance             208\n",
              "behavioral_face_mask              19\n",
              "behavioral_wash_hands             42\n",
              "behavioral_large_gatherings       87\n",
              "behavioral_outside_home           82\n",
              "behavioral_touch_face            128\n",
              "doctor_recc_h1n1                2160\n",
              "doctor_recc_seasonal            2160\n",
              "chronic_med_condition            971\n",
              "child_under_6_months             820\n",
              "health_worker                    804\n",
              "health_insurance               12274\n",
              "opinion_h1n1_vacc_effective      391\n",
              "opinion_h1n1_risk                388\n",
              "opinion_h1n1_sick_from_vacc      395\n",
              "opinion_seas_vacc_effective      462\n",
              "opinion_seas_risk                514\n",
              "opinion_seas_sick_from_vacc      537\n",
              "age_group                          0\n",
              "education                       1407\n",
              "race                               0\n",
              "sex                                0\n",
              "income_poverty                  4423\n",
              "marital_status                  1408\n",
              "rent_or_own                     2042\n",
              "employment_status               1463\n",
              "hhs_geo_region                     0\n",
              "census_msa                         0\n",
              "household_adults                 249\n",
              "household_children               249\n",
              "employment_industry            13330\n",
              "employment_occupation          13470\n",
              "dtype: int64"
            ]
          },
          "execution_count": 6,
          "metadata": {},
          "output_type": "execute_result"
        }
      ],
      "source": [
        "train_set.isnull().sum()"
      ]
    },
    {
      "cell_type": "code",
      "execution_count": null,
      "metadata": {
        "colab": {
          "base_uri": "https://localhost:8080/"
        },
        "id": "K2i3nh6gs_lo",
        "outputId": "0c8a16ed-31ed-43da-9f74-1e3d9e4f610d"
      },
      "outputs": [
        {
          "name": "stdout",
          "output_type": "stream",
          "text": [
            "<class 'pandas.core.frame.DataFrame'>\n",
            "RangeIndex: 26707 entries, 0 to 26706\n",
            "Data columns (total 36 columns):\n",
            " #   Column                       Non-Null Count  Dtype  \n",
            "---  ------                       --------------  -----  \n",
            " 0   respondent_id                26707 non-null  int64  \n",
            " 1   h1n1_concern                 26615 non-null  float64\n",
            " 2   h1n1_knowledge               26591 non-null  float64\n",
            " 3   behavioral_antiviral_meds    26636 non-null  float64\n",
            " 4   behavioral_avoidance         26499 non-null  float64\n",
            " 5   behavioral_face_mask         26688 non-null  float64\n",
            " 6   behavioral_wash_hands        26665 non-null  float64\n",
            " 7   behavioral_large_gatherings  26620 non-null  float64\n",
            " 8   behavioral_outside_home      26625 non-null  float64\n",
            " 9   behavioral_touch_face        26579 non-null  float64\n",
            " 10  doctor_recc_h1n1             24547 non-null  float64\n",
            " 11  doctor_recc_seasonal         24547 non-null  float64\n",
            " 12  chronic_med_condition        25736 non-null  float64\n",
            " 13  child_under_6_months         25887 non-null  float64\n",
            " 14  health_worker                25903 non-null  float64\n",
            " 15  health_insurance             14433 non-null  float64\n",
            " 16  opinion_h1n1_vacc_effective  26316 non-null  float64\n",
            " 17  opinion_h1n1_risk            26319 non-null  float64\n",
            " 18  opinion_h1n1_sick_from_vacc  26312 non-null  float64\n",
            " 19  opinion_seas_vacc_effective  26245 non-null  float64\n",
            " 20  opinion_seas_risk            26193 non-null  float64\n",
            " 21  opinion_seas_sick_from_vacc  26170 non-null  float64\n",
            " 22  age_group                    26707 non-null  object \n",
            " 23  education                    25300 non-null  object \n",
            " 24  race                         26707 non-null  object \n",
            " 25  sex                          26707 non-null  object \n",
            " 26  income_poverty               22284 non-null  object \n",
            " 27  marital_status               25299 non-null  object \n",
            " 28  rent_or_own                  24665 non-null  object \n",
            " 29  employment_status            25244 non-null  object \n",
            " 30  hhs_geo_region               26707 non-null  object \n",
            " 31  census_msa                   26707 non-null  object \n",
            " 32  household_adults             26458 non-null  float64\n",
            " 33  household_children           26458 non-null  float64\n",
            " 34  employment_industry          13377 non-null  object \n",
            " 35  employment_occupation        13237 non-null  object \n",
            "dtypes: float64(23), int64(1), object(12)\n",
            "memory usage: 7.3+ MB\n"
          ]
        }
      ],
      "source": [
        "train_set.info()"
      ]
    },
    {
      "cell_type": "code",
      "execution_count": null,
      "metadata": {
        "id": "S_DVT5WSQgrZ"
      },
      "outputs": [],
      "source": [
        "test_copy = test_set.copy()\n",
        "train_copy = train_set.copy()"
      ]
    },
    {
      "cell_type": "code",
      "execution_count": null,
      "metadata": {
        "id": "ZrLQ9ZcFQgra"
      },
      "outputs": [],
      "source": [
        "train_set = train_set.set_index('respondent_id')\n",
        "test_set = test_set.set_index('respondent_id')"
      ]
    },
    {
      "cell_type": "code",
      "execution_count": null,
      "metadata": {
        "colab": {
          "base_uri": "https://localhost:8080/",
          "height": 206
        },
        "id": "6IKdc4cZQgra",
        "outputId": "20a29679-4ea7-4379-b988-4220c4e6c28f"
      },
      "outputs": [
        {
          "data": {
            "text/html": [
              "\n",
              "  <div id=\"df-eb51a90d-de0a-4e3b-9354-8c4684ee02c8\">\n",
              "    <div class=\"colab-df-container\">\n",
              "      <div>\n",
              "<style scoped>\n",
              "    .dataframe tbody tr th:only-of-type {\n",
              "        vertical-align: middle;\n",
              "    }\n",
              "\n",
              "    .dataframe tbody tr th {\n",
              "        vertical-align: top;\n",
              "    }\n",
              "\n",
              "    .dataframe thead th {\n",
              "        text-align: right;\n",
              "    }\n",
              "</style>\n",
              "<table border=\"1\" class=\"dataframe\">\n",
              "  <thead>\n",
              "    <tr style=\"text-align: right;\">\n",
              "      <th></th>\n",
              "      <th>respondent_id</th>\n",
              "      <th>h1n1_vaccine</th>\n",
              "      <th>seasonal_vaccine</th>\n",
              "    </tr>\n",
              "  </thead>\n",
              "  <tbody>\n",
              "    <tr>\n",
              "      <th>0</th>\n",
              "      <td>0</td>\n",
              "      <td>0</td>\n",
              "      <td>0</td>\n",
              "    </tr>\n",
              "    <tr>\n",
              "      <th>1</th>\n",
              "      <td>1</td>\n",
              "      <td>0</td>\n",
              "      <td>1</td>\n",
              "    </tr>\n",
              "    <tr>\n",
              "      <th>2</th>\n",
              "      <td>2</td>\n",
              "      <td>0</td>\n",
              "      <td>0</td>\n",
              "    </tr>\n",
              "    <tr>\n",
              "      <th>3</th>\n",
              "      <td>3</td>\n",
              "      <td>0</td>\n",
              "      <td>1</td>\n",
              "    </tr>\n",
              "    <tr>\n",
              "      <th>4</th>\n",
              "      <td>4</td>\n",
              "      <td>0</td>\n",
              "      <td>0</td>\n",
              "    </tr>\n",
              "  </tbody>\n",
              "</table>\n",
              "</div>\n",
              "      <button class=\"colab-df-convert\" onclick=\"convertToInteractive('df-eb51a90d-de0a-4e3b-9354-8c4684ee02c8')\"\n",
              "              title=\"Convert this dataframe to an interactive table.\"\n",
              "              style=\"display:none;\">\n",
              "        \n",
              "  <svg xmlns=\"http://www.w3.org/2000/svg\" height=\"24px\"viewBox=\"0 0 24 24\"\n",
              "       width=\"24px\">\n",
              "    <path d=\"M0 0h24v24H0V0z\" fill=\"none\"/>\n",
              "    <path d=\"M18.56 5.44l.94 2.06.94-2.06 2.06-.94-2.06-.94-.94-2.06-.94 2.06-2.06.94zm-11 1L8.5 8.5l.94-2.06 2.06-.94-2.06-.94L8.5 2.5l-.94 2.06-2.06.94zm10 10l.94 2.06.94-2.06 2.06-.94-2.06-.94-.94-2.06-.94 2.06-2.06.94z\"/><path d=\"M17.41 7.96l-1.37-1.37c-.4-.4-.92-.59-1.43-.59-.52 0-1.04.2-1.43.59L10.3 9.45l-7.72 7.72c-.78.78-.78 2.05 0 2.83L4 21.41c.39.39.9.59 1.41.59.51 0 1.02-.2 1.41-.59l7.78-7.78 2.81-2.81c.8-.78.8-2.07 0-2.86zM5.41 20L4 18.59l7.72-7.72 1.47 1.35L5.41 20z\"/>\n",
              "  </svg>\n",
              "      </button>\n",
              "      \n",
              "  <style>\n",
              "    .colab-df-container {\n",
              "      display:flex;\n",
              "      flex-wrap:wrap;\n",
              "      gap: 12px;\n",
              "    }\n",
              "\n",
              "    .colab-df-convert {\n",
              "      background-color: #E8F0FE;\n",
              "      border: none;\n",
              "      border-radius: 50%;\n",
              "      cursor: pointer;\n",
              "      display: none;\n",
              "      fill: #1967D2;\n",
              "      height: 32px;\n",
              "      padding: 0 0 0 0;\n",
              "      width: 32px;\n",
              "    }\n",
              "\n",
              "    .colab-df-convert:hover {\n",
              "      background-color: #E2EBFA;\n",
              "      box-shadow: 0px 1px 2px rgba(60, 64, 67, 0.3), 0px 1px 3px 1px rgba(60, 64, 67, 0.15);\n",
              "      fill: #174EA6;\n",
              "    }\n",
              "\n",
              "    [theme=dark] .colab-df-convert {\n",
              "      background-color: #3B4455;\n",
              "      fill: #D2E3FC;\n",
              "    }\n",
              "\n",
              "    [theme=dark] .colab-df-convert:hover {\n",
              "      background-color: #434B5C;\n",
              "      box-shadow: 0px 1px 3px 1px rgba(0, 0, 0, 0.15);\n",
              "      filter: drop-shadow(0px 1px 2px rgba(0, 0, 0, 0.3));\n",
              "      fill: #FFFFFF;\n",
              "    }\n",
              "  </style>\n",
              "\n",
              "      <script>\n",
              "        const buttonEl =\n",
              "          document.querySelector('#df-eb51a90d-de0a-4e3b-9354-8c4684ee02c8 button.colab-df-convert');\n",
              "        buttonEl.style.display =\n",
              "          google.colab.kernel.accessAllowed ? 'block' : 'none';\n",
              "\n",
              "        async function convertToInteractive(key) {\n",
              "          const element = document.querySelector('#df-eb51a90d-de0a-4e3b-9354-8c4684ee02c8');\n",
              "          const dataTable =\n",
              "            await google.colab.kernel.invokeFunction('convertToInteractive',\n",
              "                                                     [key], {});\n",
              "          if (!dataTable) return;\n",
              "\n",
              "          const docLinkHtml = 'Like what you see? Visit the ' +\n",
              "            '<a target=\"_blank\" href=https://colab.research.google.com/notebooks/data_table.ipynb>data table notebook</a>'\n",
              "            + ' to learn more about interactive tables.';\n",
              "          element.innerHTML = '';\n",
              "          dataTable['output_type'] = 'display_data';\n",
              "          await google.colab.output.renderOutput(dataTable, element);\n",
              "          const docLink = document.createElement('div');\n",
              "          docLink.innerHTML = docLinkHtml;\n",
              "          element.appendChild(docLink);\n",
              "        }\n",
              "      </script>\n",
              "    </div>\n",
              "  </div>\n",
              "  "
            ],
            "text/plain": [
              "   respondent_id  h1n1_vaccine  seasonal_vaccine\n",
              "0              0             0                 0\n",
              "1              1             0                 1\n",
              "2              2             0                 0\n",
              "3              3             0                 1\n",
              "4              4             0                 0"
            ]
          },
          "execution_count": 10,
          "metadata": {},
          "output_type": "execute_result"
        }
      ],
      "source": [
        "y1 = train_label['h1n1_vaccine'].values\n",
        "y2 = train_label['seasonal_vaccine'].values\n",
        "train_label.head()\n"
      ]
    },
    {
      "cell_type": "code",
      "execution_count": null,
      "metadata": {
        "id": "wKE9kg5GQgrb"
      },
      "outputs": [],
      "source": [
        "numeric_col = np.where(train_set.dtypes != object)[0]\n",
        "numeric_feat = [train_set.columns[x] for x in numeric_col]\n"
      ]
    },
    {
      "cell_type": "code",
      "execution_count": null,
      "metadata": {
        "id": "jVixMfiGQgrc"
      },
      "outputs": [],
      "source": [
        "train_cluster_df = train_set[numeric_feat]\n",
        "test_cluster_df =  test_set[numeric_feat]\n",
        "\n",
        "train_cluster_df = train_cluster_df.fillna(-999)\n",
        "test_cluster_df = test_cluster_df.fillna(-999)"
      ]
    },
    {
      "cell_type": "code",
      "execution_count": null,
      "metadata": {
        "id": "IxE3XFq4Qgrc"
      },
      "outputs": [],
      "source": [
        "kmeans = KMeans(4,random_state=42)\n",
        "kmeans.fit(train_cluster_df)\n",
        "train_set['clusters'] = kmeans.predict(train_cluster_df)\n",
        "test_set['clusters']  = kmeans.predict(test_cluster_df)"
      ]
    },
    {
      "cell_type": "code",
      "execution_count": null,
      "metadata": {
        "colab": {
          "base_uri": "https://localhost:8080/",
          "height": 519
        },
        "id": "3bF9SlmrSi3S",
        "outputId": "ba08f4e1-ef08-42b9-a23a-38aaad1c06cc"
      },
      "outputs": [
        {
          "data": {
            "text/html": [
              "\n",
              "  <div id=\"df-395229f1-2018-4fc2-b1c5-1e2d81894f8f\">\n",
              "    <div class=\"colab-df-container\">\n",
              "      <div>\n",
              "<style scoped>\n",
              "    .dataframe tbody tr th:only-of-type {\n",
              "        vertical-align: middle;\n",
              "    }\n",
              "\n",
              "    .dataframe tbody tr th {\n",
              "        vertical-align: top;\n",
              "    }\n",
              "\n",
              "    .dataframe thead th {\n",
              "        text-align: right;\n",
              "    }\n",
              "</style>\n",
              "<table border=\"1\" class=\"dataframe\">\n",
              "  <thead>\n",
              "    <tr style=\"text-align: right;\">\n",
              "      <th></th>\n",
              "      <th>h1n1_concern</th>\n",
              "      <th>h1n1_knowledge</th>\n",
              "      <th>behavioral_antiviral_meds</th>\n",
              "      <th>behavioral_avoidance</th>\n",
              "      <th>behavioral_face_mask</th>\n",
              "      <th>behavioral_wash_hands</th>\n",
              "      <th>behavioral_large_gatherings</th>\n",
              "      <th>behavioral_outside_home</th>\n",
              "      <th>behavioral_touch_face</th>\n",
              "      <th>doctor_recc_h1n1</th>\n",
              "      <th>...</th>\n",
              "      <th>health_worker</th>\n",
              "      <th>health_insurance</th>\n",
              "      <th>opinion_h1n1_vacc_effective</th>\n",
              "      <th>opinion_h1n1_risk</th>\n",
              "      <th>opinion_h1n1_sick_from_vacc</th>\n",
              "      <th>opinion_seas_vacc_effective</th>\n",
              "      <th>opinion_seas_risk</th>\n",
              "      <th>opinion_seas_sick_from_vacc</th>\n",
              "      <th>household_adults</th>\n",
              "      <th>household_children</th>\n",
              "    </tr>\n",
              "    <tr>\n",
              "      <th>respondent_id</th>\n",
              "      <th></th>\n",
              "      <th></th>\n",
              "      <th></th>\n",
              "      <th></th>\n",
              "      <th></th>\n",
              "      <th></th>\n",
              "      <th></th>\n",
              "      <th></th>\n",
              "      <th></th>\n",
              "      <th></th>\n",
              "      <th></th>\n",
              "      <th></th>\n",
              "      <th></th>\n",
              "      <th></th>\n",
              "      <th></th>\n",
              "      <th></th>\n",
              "      <th></th>\n",
              "      <th></th>\n",
              "      <th></th>\n",
              "      <th></th>\n",
              "      <th></th>\n",
              "    </tr>\n",
              "  </thead>\n",
              "  <tbody>\n",
              "    <tr>\n",
              "      <th>0</th>\n",
              "      <td>1.0</td>\n",
              "      <td>0.0</td>\n",
              "      <td>0.0</td>\n",
              "      <td>0.0</td>\n",
              "      <td>0.0</td>\n",
              "      <td>0.0</td>\n",
              "      <td>0.0</td>\n",
              "      <td>1.0</td>\n",
              "      <td>1.0</td>\n",
              "      <td>0.0</td>\n",
              "      <td>...</td>\n",
              "      <td>0.0</td>\n",
              "      <td>1.0</td>\n",
              "      <td>3.0</td>\n",
              "      <td>1.0</td>\n",
              "      <td>2.0</td>\n",
              "      <td>2.0</td>\n",
              "      <td>1.0</td>\n",
              "      <td>2.0</td>\n",
              "      <td>0.0</td>\n",
              "      <td>0.0</td>\n",
              "    </tr>\n",
              "    <tr>\n",
              "      <th>1</th>\n",
              "      <td>3.0</td>\n",
              "      <td>2.0</td>\n",
              "      <td>0.0</td>\n",
              "      <td>1.0</td>\n",
              "      <td>0.0</td>\n",
              "      <td>1.0</td>\n",
              "      <td>0.0</td>\n",
              "      <td>1.0</td>\n",
              "      <td>1.0</td>\n",
              "      <td>0.0</td>\n",
              "      <td>...</td>\n",
              "      <td>0.0</td>\n",
              "      <td>1.0</td>\n",
              "      <td>5.0</td>\n",
              "      <td>4.0</td>\n",
              "      <td>4.0</td>\n",
              "      <td>4.0</td>\n",
              "      <td>2.0</td>\n",
              "      <td>4.0</td>\n",
              "      <td>0.0</td>\n",
              "      <td>0.0</td>\n",
              "    </tr>\n",
              "    <tr>\n",
              "      <th>2</th>\n",
              "      <td>1.0</td>\n",
              "      <td>1.0</td>\n",
              "      <td>0.0</td>\n",
              "      <td>1.0</td>\n",
              "      <td>0.0</td>\n",
              "      <td>0.0</td>\n",
              "      <td>0.0</td>\n",
              "      <td>0.0</td>\n",
              "      <td>0.0</td>\n",
              "      <td>-999.0</td>\n",
              "      <td>...</td>\n",
              "      <td>0.0</td>\n",
              "      <td>-999.0</td>\n",
              "      <td>3.0</td>\n",
              "      <td>1.0</td>\n",
              "      <td>1.0</td>\n",
              "      <td>4.0</td>\n",
              "      <td>1.0</td>\n",
              "      <td>2.0</td>\n",
              "      <td>2.0</td>\n",
              "      <td>0.0</td>\n",
              "    </tr>\n",
              "    <tr>\n",
              "      <th>3</th>\n",
              "      <td>1.0</td>\n",
              "      <td>1.0</td>\n",
              "      <td>0.0</td>\n",
              "      <td>1.0</td>\n",
              "      <td>0.0</td>\n",
              "      <td>1.0</td>\n",
              "      <td>1.0</td>\n",
              "      <td>0.0</td>\n",
              "      <td>0.0</td>\n",
              "      <td>0.0</td>\n",
              "      <td>...</td>\n",
              "      <td>0.0</td>\n",
              "      <td>-999.0</td>\n",
              "      <td>3.0</td>\n",
              "      <td>3.0</td>\n",
              "      <td>5.0</td>\n",
              "      <td>5.0</td>\n",
              "      <td>4.0</td>\n",
              "      <td>1.0</td>\n",
              "      <td>0.0</td>\n",
              "      <td>0.0</td>\n",
              "    </tr>\n",
              "    <tr>\n",
              "      <th>4</th>\n",
              "      <td>2.0</td>\n",
              "      <td>1.0</td>\n",
              "      <td>0.0</td>\n",
              "      <td>1.0</td>\n",
              "      <td>0.0</td>\n",
              "      <td>1.0</td>\n",
              "      <td>1.0</td>\n",
              "      <td>0.0</td>\n",
              "      <td>1.0</td>\n",
              "      <td>0.0</td>\n",
              "      <td>...</td>\n",
              "      <td>0.0</td>\n",
              "      <td>-999.0</td>\n",
              "      <td>3.0</td>\n",
              "      <td>3.0</td>\n",
              "      <td>2.0</td>\n",
              "      <td>3.0</td>\n",
              "      <td>1.0</td>\n",
              "      <td>4.0</td>\n",
              "      <td>1.0</td>\n",
              "      <td>0.0</td>\n",
              "    </tr>\n",
              "    <tr>\n",
              "      <th>...</th>\n",
              "      <td>...</td>\n",
              "      <td>...</td>\n",
              "      <td>...</td>\n",
              "      <td>...</td>\n",
              "      <td>...</td>\n",
              "      <td>...</td>\n",
              "      <td>...</td>\n",
              "      <td>...</td>\n",
              "      <td>...</td>\n",
              "      <td>...</td>\n",
              "      <td>...</td>\n",
              "      <td>...</td>\n",
              "      <td>...</td>\n",
              "      <td>...</td>\n",
              "      <td>...</td>\n",
              "      <td>...</td>\n",
              "      <td>...</td>\n",
              "      <td>...</td>\n",
              "      <td>...</td>\n",
              "      <td>...</td>\n",
              "      <td>...</td>\n",
              "    </tr>\n",
              "    <tr>\n",
              "      <th>26702</th>\n",
              "      <td>2.0</td>\n",
              "      <td>0.0</td>\n",
              "      <td>0.0</td>\n",
              "      <td>1.0</td>\n",
              "      <td>0.0</td>\n",
              "      <td>0.0</td>\n",
              "      <td>0.0</td>\n",
              "      <td>1.0</td>\n",
              "      <td>0.0</td>\n",
              "      <td>0.0</td>\n",
              "      <td>...</td>\n",
              "      <td>0.0</td>\n",
              "      <td>-999.0</td>\n",
              "      <td>3.0</td>\n",
              "      <td>1.0</td>\n",
              "      <td>1.0</td>\n",
              "      <td>5.0</td>\n",
              "      <td>2.0</td>\n",
              "      <td>2.0</td>\n",
              "      <td>0.0</td>\n",
              "      <td>0.0</td>\n",
              "    </tr>\n",
              "    <tr>\n",
              "      <th>26703</th>\n",
              "      <td>1.0</td>\n",
              "      <td>2.0</td>\n",
              "      <td>0.0</td>\n",
              "      <td>1.0</td>\n",
              "      <td>0.0</td>\n",
              "      <td>1.0</td>\n",
              "      <td>0.0</td>\n",
              "      <td>0.0</td>\n",
              "      <td>0.0</td>\n",
              "      <td>1.0</td>\n",
              "      <td>...</td>\n",
              "      <td>1.0</td>\n",
              "      <td>1.0</td>\n",
              "      <td>4.0</td>\n",
              "      <td>2.0</td>\n",
              "      <td>2.0</td>\n",
              "      <td>5.0</td>\n",
              "      <td>1.0</td>\n",
              "      <td>1.0</td>\n",
              "      <td>1.0</td>\n",
              "      <td>0.0</td>\n",
              "    </tr>\n",
              "    <tr>\n",
              "      <th>26704</th>\n",
              "      <td>2.0</td>\n",
              "      <td>2.0</td>\n",
              "      <td>0.0</td>\n",
              "      <td>1.0</td>\n",
              "      <td>1.0</td>\n",
              "      <td>1.0</td>\n",
              "      <td>1.0</td>\n",
              "      <td>0.0</td>\n",
              "      <td>1.0</td>\n",
              "      <td>0.0</td>\n",
              "      <td>...</td>\n",
              "      <td>0.0</td>\n",
              "      <td>-999.0</td>\n",
              "      <td>4.0</td>\n",
              "      <td>4.0</td>\n",
              "      <td>2.0</td>\n",
              "      <td>5.0</td>\n",
              "      <td>4.0</td>\n",
              "      <td>2.0</td>\n",
              "      <td>0.0</td>\n",
              "      <td>0.0</td>\n",
              "    </tr>\n",
              "    <tr>\n",
              "      <th>26705</th>\n",
              "      <td>1.0</td>\n",
              "      <td>1.0</td>\n",
              "      <td>0.0</td>\n",
              "      <td>0.0</td>\n",
              "      <td>0.0</td>\n",
              "      <td>0.0</td>\n",
              "      <td>0.0</td>\n",
              "      <td>0.0</td>\n",
              "      <td>-999.0</td>\n",
              "      <td>0.0</td>\n",
              "      <td>...</td>\n",
              "      <td>0.0</td>\n",
              "      <td>0.0</td>\n",
              "      <td>3.0</td>\n",
              "      <td>1.0</td>\n",
              "      <td>2.0</td>\n",
              "      <td>2.0</td>\n",
              "      <td>1.0</td>\n",
              "      <td>2.0</td>\n",
              "      <td>1.0</td>\n",
              "      <td>0.0</td>\n",
              "    </tr>\n",
              "    <tr>\n",
              "      <th>26706</th>\n",
              "      <td>0.0</td>\n",
              "      <td>0.0</td>\n",
              "      <td>0.0</td>\n",
              "      <td>1.0</td>\n",
              "      <td>0.0</td>\n",
              "      <td>0.0</td>\n",
              "      <td>0.0</td>\n",
              "      <td>0.0</td>\n",
              "      <td>0.0</td>\n",
              "      <td>0.0</td>\n",
              "      <td>...</td>\n",
              "      <td>0.0</td>\n",
              "      <td>1.0</td>\n",
              "      <td>5.0</td>\n",
              "      <td>1.0</td>\n",
              "      <td>1.0</td>\n",
              "      <td>5.0</td>\n",
              "      <td>1.0</td>\n",
              "      <td>1.0</td>\n",
              "      <td>1.0</td>\n",
              "      <td>0.0</td>\n",
              "    </tr>\n",
              "  </tbody>\n",
              "</table>\n",
              "<p>26707 rows × 23 columns</p>\n",
              "</div>\n",
              "      <button class=\"colab-df-convert\" onclick=\"convertToInteractive('df-395229f1-2018-4fc2-b1c5-1e2d81894f8f')\"\n",
              "              title=\"Convert this dataframe to an interactive table.\"\n",
              "              style=\"display:none;\">\n",
              "        \n",
              "  <svg xmlns=\"http://www.w3.org/2000/svg\" height=\"24px\"viewBox=\"0 0 24 24\"\n",
              "       width=\"24px\">\n",
              "    <path d=\"M0 0h24v24H0V0z\" fill=\"none\"/>\n",
              "    <path d=\"M18.56 5.44l.94 2.06.94-2.06 2.06-.94-2.06-.94-.94-2.06-.94 2.06-2.06.94zm-11 1L8.5 8.5l.94-2.06 2.06-.94-2.06-.94L8.5 2.5l-.94 2.06-2.06.94zm10 10l.94 2.06.94-2.06 2.06-.94-2.06-.94-.94-2.06-.94 2.06-2.06.94z\"/><path d=\"M17.41 7.96l-1.37-1.37c-.4-.4-.92-.59-1.43-.59-.52 0-1.04.2-1.43.59L10.3 9.45l-7.72 7.72c-.78.78-.78 2.05 0 2.83L4 21.41c.39.39.9.59 1.41.59.51 0 1.02-.2 1.41-.59l7.78-7.78 2.81-2.81c.8-.78.8-2.07 0-2.86zM5.41 20L4 18.59l7.72-7.72 1.47 1.35L5.41 20z\"/>\n",
              "  </svg>\n",
              "      </button>\n",
              "      \n",
              "  <style>\n",
              "    .colab-df-container {\n",
              "      display:flex;\n",
              "      flex-wrap:wrap;\n",
              "      gap: 12px;\n",
              "    }\n",
              "\n",
              "    .colab-df-convert {\n",
              "      background-color: #E8F0FE;\n",
              "      border: none;\n",
              "      border-radius: 50%;\n",
              "      cursor: pointer;\n",
              "      display: none;\n",
              "      fill: #1967D2;\n",
              "      height: 32px;\n",
              "      padding: 0 0 0 0;\n",
              "      width: 32px;\n",
              "    }\n",
              "\n",
              "    .colab-df-convert:hover {\n",
              "      background-color: #E2EBFA;\n",
              "      box-shadow: 0px 1px 2px rgba(60, 64, 67, 0.3), 0px 1px 3px 1px rgba(60, 64, 67, 0.15);\n",
              "      fill: #174EA6;\n",
              "    }\n",
              "\n",
              "    [theme=dark] .colab-df-convert {\n",
              "      background-color: #3B4455;\n",
              "      fill: #D2E3FC;\n",
              "    }\n",
              "\n",
              "    [theme=dark] .colab-df-convert:hover {\n",
              "      background-color: #434B5C;\n",
              "      box-shadow: 0px 1px 3px 1px rgba(0, 0, 0, 0.15);\n",
              "      filter: drop-shadow(0px 1px 2px rgba(0, 0, 0, 0.3));\n",
              "      fill: #FFFFFF;\n",
              "    }\n",
              "  </style>\n",
              "\n",
              "      <script>\n",
              "        const buttonEl =\n",
              "          document.querySelector('#df-395229f1-2018-4fc2-b1c5-1e2d81894f8f button.colab-df-convert');\n",
              "        buttonEl.style.display =\n",
              "          google.colab.kernel.accessAllowed ? 'block' : 'none';\n",
              "\n",
              "        async function convertToInteractive(key) {\n",
              "          const element = document.querySelector('#df-395229f1-2018-4fc2-b1c5-1e2d81894f8f');\n",
              "          const dataTable =\n",
              "            await google.colab.kernel.invokeFunction('convertToInteractive',\n",
              "                                                     [key], {});\n",
              "          if (!dataTable) return;\n",
              "\n",
              "          const docLinkHtml = 'Like what you see? Visit the ' +\n",
              "            '<a target=\"_blank\" href=https://colab.research.google.com/notebooks/data_table.ipynb>data table notebook</a>'\n",
              "            + ' to learn more about interactive tables.';\n",
              "          element.innerHTML = '';\n",
              "          dataTable['output_type'] = 'display_data';\n",
              "          await google.colab.output.renderOutput(dataTable, element);\n",
              "          const docLink = document.createElement('div');\n",
              "          docLink.innerHTML = docLinkHtml;\n",
              "          element.appendChild(docLink);\n",
              "        }\n",
              "      </script>\n",
              "    </div>\n",
              "  </div>\n",
              "  "
            ],
            "text/plain": [
              "               h1n1_concern  h1n1_knowledge  behavioral_antiviral_meds  \\\n",
              "respondent_id                                                            \n",
              "0                       1.0             0.0                        0.0   \n",
              "1                       3.0             2.0                        0.0   \n",
              "2                       1.0             1.0                        0.0   \n",
              "3                       1.0             1.0                        0.0   \n",
              "4                       2.0             1.0                        0.0   \n",
              "...                     ...             ...                        ...   \n",
              "26702                   2.0             0.0                        0.0   \n",
              "26703                   1.0             2.0                        0.0   \n",
              "26704                   2.0             2.0                        0.0   \n",
              "26705                   1.0             1.0                        0.0   \n",
              "26706                   0.0             0.0                        0.0   \n",
              "\n",
              "               behavioral_avoidance  behavioral_face_mask  \\\n",
              "respondent_id                                               \n",
              "0                               0.0                   0.0   \n",
              "1                               1.0                   0.0   \n",
              "2                               1.0                   0.0   \n",
              "3                               1.0                   0.0   \n",
              "4                               1.0                   0.0   \n",
              "...                             ...                   ...   \n",
              "26702                           1.0                   0.0   \n",
              "26703                           1.0                   0.0   \n",
              "26704                           1.0                   1.0   \n",
              "26705                           0.0                   0.0   \n",
              "26706                           1.0                   0.0   \n",
              "\n",
              "               behavioral_wash_hands  behavioral_large_gatherings  \\\n",
              "respondent_id                                                       \n",
              "0                                0.0                          0.0   \n",
              "1                                1.0                          0.0   \n",
              "2                                0.0                          0.0   \n",
              "3                                1.0                          1.0   \n",
              "4                                1.0                          1.0   \n",
              "...                              ...                          ...   \n",
              "26702                            0.0                          0.0   \n",
              "26703                            1.0                          0.0   \n",
              "26704                            1.0                          1.0   \n",
              "26705                            0.0                          0.0   \n",
              "26706                            0.0                          0.0   \n",
              "\n",
              "               behavioral_outside_home  behavioral_touch_face  \\\n",
              "respondent_id                                                   \n",
              "0                                  1.0                    1.0   \n",
              "1                                  1.0                    1.0   \n",
              "2                                  0.0                    0.0   \n",
              "3                                  0.0                    0.0   \n",
              "4                                  0.0                    1.0   \n",
              "...                                ...                    ...   \n",
              "26702                              1.0                    0.0   \n",
              "26703                              0.0                    0.0   \n",
              "26704                              0.0                    1.0   \n",
              "26705                              0.0                 -999.0   \n",
              "26706                              0.0                    0.0   \n",
              "\n",
              "               doctor_recc_h1n1  ...  health_worker  health_insurance  \\\n",
              "respondent_id                    ...                                    \n",
              "0                           0.0  ...            0.0               1.0   \n",
              "1                           0.0  ...            0.0               1.0   \n",
              "2                        -999.0  ...            0.0            -999.0   \n",
              "3                           0.0  ...            0.0            -999.0   \n",
              "4                           0.0  ...            0.0            -999.0   \n",
              "...                         ...  ...            ...               ...   \n",
              "26702                       0.0  ...            0.0            -999.0   \n",
              "26703                       1.0  ...            1.0               1.0   \n",
              "26704                       0.0  ...            0.0            -999.0   \n",
              "26705                       0.0  ...            0.0               0.0   \n",
              "26706                       0.0  ...            0.0               1.0   \n",
              "\n",
              "               opinion_h1n1_vacc_effective  opinion_h1n1_risk  \\\n",
              "respondent_id                                                   \n",
              "0                                      3.0                1.0   \n",
              "1                                      5.0                4.0   \n",
              "2                                      3.0                1.0   \n",
              "3                                      3.0                3.0   \n",
              "4                                      3.0                3.0   \n",
              "...                                    ...                ...   \n",
              "26702                                  3.0                1.0   \n",
              "26703                                  4.0                2.0   \n",
              "26704                                  4.0                4.0   \n",
              "26705                                  3.0                1.0   \n",
              "26706                                  5.0                1.0   \n",
              "\n",
              "               opinion_h1n1_sick_from_vacc  opinion_seas_vacc_effective  \\\n",
              "respondent_id                                                             \n",
              "0                                      2.0                          2.0   \n",
              "1                                      4.0                          4.0   \n",
              "2                                      1.0                          4.0   \n",
              "3                                      5.0                          5.0   \n",
              "4                                      2.0                          3.0   \n",
              "...                                    ...                          ...   \n",
              "26702                                  1.0                          5.0   \n",
              "26703                                  2.0                          5.0   \n",
              "26704                                  2.0                          5.0   \n",
              "26705                                  2.0                          2.0   \n",
              "26706                                  1.0                          5.0   \n",
              "\n",
              "               opinion_seas_risk  opinion_seas_sick_from_vacc  \\\n",
              "respondent_id                                                   \n",
              "0                            1.0                          2.0   \n",
              "1                            2.0                          4.0   \n",
              "2                            1.0                          2.0   \n",
              "3                            4.0                          1.0   \n",
              "4                            1.0                          4.0   \n",
              "...                          ...                          ...   \n",
              "26702                        2.0                          2.0   \n",
              "26703                        1.0                          1.0   \n",
              "26704                        4.0                          2.0   \n",
              "26705                        1.0                          2.0   \n",
              "26706                        1.0                          1.0   \n",
              "\n",
              "               household_adults  household_children  \n",
              "respondent_id                                        \n",
              "0                           0.0                 0.0  \n",
              "1                           0.0                 0.0  \n",
              "2                           2.0                 0.0  \n",
              "3                           0.0                 0.0  \n",
              "4                           1.0                 0.0  \n",
              "...                         ...                 ...  \n",
              "26702                       0.0                 0.0  \n",
              "26703                       1.0                 0.0  \n",
              "26704                       0.0                 0.0  \n",
              "26705                       1.0                 0.0  \n",
              "26706                       1.0                 0.0  \n",
              "\n",
              "[26707 rows x 23 columns]"
            ]
          },
          "execution_count": 14,
          "metadata": {},
          "output_type": "execute_result"
        }
      ],
      "source": [
        "train_cluster_df"
      ]
    },
    {
      "cell_type": "code",
      "execution_count": null,
      "metadata": {
        "colab": {
          "base_uri": "https://localhost:8080/"
        },
        "id": "ZYCNUdfEQgrd",
        "outputId": "3f0782ca-897e-49f4-8db4-3fe785c9b730"
      },
      "outputs": [
        {
          "data": {
            "text/plain": [
              "Index(['h1n1_concern', 'h1n1_knowledge', 'behavioral_antiviral_meds',\n",
              "       'behavioral_avoidance', 'behavioral_face_mask', 'behavioral_wash_hands',\n",
              "       'behavioral_large_gatherings', 'behavioral_outside_home',\n",
              "       'behavioral_touch_face', 'doctor_recc_h1n1', 'doctor_recc_seasonal',\n",
              "       'chronic_med_condition', 'child_under_6_months', 'health_worker',\n",
              "       'health_insurance', 'opinion_h1n1_vacc_effective', 'opinion_h1n1_risk',\n",
              "       'opinion_h1n1_sick_from_vacc', 'opinion_seas_vacc_effective',\n",
              "       'opinion_seas_risk', 'opinion_seas_sick_from_vacc', 'age_group',\n",
              "       'education', 'race', 'sex', 'income_poverty', 'marital_status',\n",
              "       'rent_or_own', 'employment_status', 'hhs_geo_region', 'census_msa',\n",
              "       'household_adults', 'household_children', 'employment_industry',\n",
              "       'employment_occupation', 'clusters'],\n",
              "      dtype='object')"
            ]
          },
          "execution_count": 15,
          "metadata": {},
          "output_type": "execute_result"
        }
      ],
      "source": [
        "train_set.columns"
      ]
    },
    {
      "cell_type": "code",
      "execution_count": null,
      "metadata": {
        "id": "gkB3w3-NspFd"
      },
      "outputs": [],
      "source": []
    },
    {
      "cell_type": "code",
      "execution_count": null,
      "metadata": {
        "id": "JkB9xf0HQgrd"
      },
      "outputs": [],
      "source": [
        "cols = ['behavioral_face_mask','behavioral_wash_hands','behavioral_touch_face',\n",
        "        'opinion_seas_vacc_effective','opinion_seas_risk'\n",
        "        ,'opinion_h1n1_vacc_effective','opinion_h1n1_risk'\n",
        "    ,'opinion_seas_vacc_effective' ,'opinion_seas_sick_from_vacc'    \n",
        "     ,'opinion_h1n1_vacc_effective' , 'opinion_h1n1_sick_from_vacc'\n",
        "     ,'h1n1_concern', 'h1n1_knowledge'\n",
        "     ,'household_adults','household_children'\n",
        "     ,'behavioral_large_gatherings' , 'behavioral_outside_home']\n"
      ]
    },
    {
      "cell_type": "code",
      "execution_count": null,
      "metadata": {
        "id": "OUEVa10pQgre"
      },
      "outputs": [],
      "source": [
        "for col in cols:\n",
        "    train_set[col] = train_set[col].apply(str)\n",
        "    test_set[col] = test_set[col].apply(str)\n",
        "    "
      ]
    },
    {
      "cell_type": "code",
      "execution_count": null,
      "metadata": {
        "id": "i9p6kGTvQgre"
      },
      "outputs": [],
      "source": [
        "train_set['total_persons'] = train_set['household_adults']+train_set['household_children']\n",
        "test_set['total_persons'] = test_set['household_adults']+test_set['household_children']"
      ]
    },
    {
      "cell_type": "code",
      "execution_count": null,
      "metadata": {
        "id": "4ggtWKt5Qgre"
      },
      "outputs": [],
      "source": [
        "\n",
        "train_set['face_mask_wash_hand'] = train_set['behavioral_face_mask']+train_set['behavioral_wash_hands']\n",
        "train_set['face_mask_touch_face'] = train_set['behavioral_face_mask'] + train_set['behavioral_touch_face']\n",
        "train_set['wash_hands_touch_face'] = train_set['behavioral_wash_hands']+train_set['behavioral_touch_face']\n",
        "train_set['opinion_seas_eff_risk'] = train_set['opinion_seas_vacc_effective']+train_set['opinion_seas_risk']\n",
        "train_set['opinion_h1n1_eff_risk'] = train_set['opinion_h1n1_vacc_effective']+train_set['opinion_h1n1_risk']\n",
        "train_set['opinio_seas_vacc_eff_sick'] = train_set['opinion_seas_vacc_effective'] + train_set['opinion_seas_sick_from_vacc']\n",
        "train_set['opinon_h1n1_vacc_eff_sick'] = train_set['opinion_h1n1_vacc_effective']+train_set['opinion_h1n1_sick_from_vacc']\n",
        "train_set['h1n1_concern_knowledge']   = train_set['h1n1_concern'] + train_set['h1n1_knowledge']\n",
        "train_set['behaviour_large_gath_outside_home']  = train_set['behavioral_large_gatherings'] + train_set['behavioral_outside_home']\n",
        "train_set['opinion_seas_vaccine']  = train_set['opinion_seas_risk']+train_set['opinion_seas_sick_from_vacc']\n",
        "train_set['opinion_h1n1_vaccine']  = train_set['opinion_h1n1_risk']+train_set['opinion_h1n1_sick_from_vacc']\n",
        "\n",
        "\n",
        "\n",
        "\n",
        "test_set['face_mask_wash_hand'] = test_set['behavioral_face_mask']+test_set['behavioral_wash_hands']\n",
        "test_set['face_mask_touch_face'] = test_set['behavioral_face_mask'] + test_set['behavioral_touch_face']\n",
        "test_set['wash_hands_touch_face'] = test_set['behavioral_wash_hands']+test_set['behavioral_touch_face']\n",
        "test_set['opinion_seas_eff_risk'] = test_set['opinion_seas_vacc_effective']+test_set['opinion_seas_risk']\n",
        "test_set['opinion_h1n1_eff_risk'] = test_set['opinion_h1n1_vacc_effective']+test_set['opinion_h1n1_risk']\n",
        "test_set['opinio_seas_vacc_eff_sick'] = test_set['opinion_seas_vacc_effective'] + test_set['opinion_seas_sick_from_vacc']\n",
        "test_set['opinon_h1n1_vacc_eff_sick'] = test_set['opinion_h1n1_vacc_effective']+test_set['opinion_h1n1_sick_from_vacc']\n",
        "test_set['h1n1_concern_knowledge']   = test_set['h1n1_concern'] + test_set['h1n1_knowledge']\n",
        "test_set['behaviour_large_gath_outside_home']  = test_set['behavioral_large_gatherings'] + test_set['behavioral_outside_home']\n",
        "test_set['opinion_seas_vaccine']  = test_set['opinion_seas_risk']+test_set['opinion_seas_sick_from_vacc']\n",
        "test_set['opinion_h1n1_vaccine']  = test_set['opinion_h1n1_risk']+test_set['opinion_h1n1_sick_from_vacc']\n",
        "\n"
      ]
    },
    {
      "cell_type": "code",
      "execution_count": null,
      "metadata": {
        "id": "kBiIBs0yQgrf"
      },
      "outputs": [],
      "source": [
        "to_drop = ['behavioral_face_mask','behavioral_wash_hands','behavioral_touch_face','opinion_seas_vacc_effective',\n",
        "           'opinion_seas_risk','opinion_h1n1_vacc_effective','opinion_h1n1_risk','opinion_seas_vacc_effective',\n",
        "           'opinion_seas_sick_from_vacc','opinion_h1n1_vacc_effective','opinion_h1n1_sick_from_vacc','h1n1_concern',\n",
        "           'h1n1_knowledge','behavioral_large_gatherings','behavioral_outside_home','household_adults','household_children']\n",
        "\n",
        "train_set = train_set.drop(to_drop,axis=1)\n",
        "test_set = test_set.drop(to_drop,axis=1)"
      ]
    },
    {
      "cell_type": "code",
      "execution_count": null,
      "metadata": {
        "id": "tIzgIHWvQgrf"
      },
      "outputs": [],
      "source": [
        "train_set_A = train_set.copy()\n",
        "train_set_B = train_set.copy()"
      ]
    },
    {
      "cell_type": "code",
      "execution_count": null,
      "metadata": {
        "id": "iLTW54ASQgrg"
      },
      "outputs": [],
      "source": [
        "train_set_A['h1n1_vaccine'] = y1\n",
        "train_set_B['seasonal_vaccine'] = y2"
      ]
    },
    {
      "cell_type": "code",
      "execution_count": null,
      "metadata": {
        "id": "XMaS1pjqQgrg"
      },
      "outputs": [],
      "source": []
    },
    {
      "cell_type": "code",
      "execution_count": null,
      "metadata": {
        "id": "5DNbZjK9Qgrg"
      },
      "outputs": [],
      "source": [
        "target_mean_A = train_set_A.groupby(['clusters']).mean()[['h1n1_vaccine']]\n",
        "for i in list(target_mean_A.columns):\n",
        "  target_mean_A.rename({i:i+\"_mean\"},axis=1,inplace=True)\n",
        "train_set_A = train_set_A.merge(target_mean_A,how='left',on='clusters')\n",
        "test_set_A = test_set.merge(target_mean_A,how=\"left\",on='clusters')\n"
      ]
    },
    {
      "cell_type": "code",
      "execution_count": null,
      "metadata": {
        "id": "wmby6z5EQgrg"
      },
      "outputs": [],
      "source": [
        "target_mean_B = train_set_B.groupby(['clusters']).mean()[['seasonal_vaccine']]\n",
        "for i in list(target_mean_B.columns):\n",
        "  target_mean_B.rename({i:i+\"_mean\"},axis=1,inplace=True)\n",
        "train_set_B = train_set_B.merge(target_mean_B,how='left',on='clusters')\n",
        "test_set_B = test_set.merge(target_mean_B,how=\"left\",on='clusters')"
      ]
    },
    {
      "cell_type": "code",
      "execution_count": null,
      "metadata": {
        "colab": {
          "base_uri": "https://localhost:8080/"
        },
        "id": "Scsd7xz9Qgrk",
        "outputId": "2e5be258-66c4-4157-c765-25f186e5e7a3"
      },
      "outputs": [
        {
          "data": {
            "text/plain": [
              "['age_group', 'education', 'race', 'sex', 'income_poverty']"
            ]
          },
          "execution_count": 25,
          "metadata": {},
          "output_type": "execute_result"
        }
      ],
      "source": [
        "freq_enc_index = np.where(train_set_A.dtypes == object)[0];\n",
        "freq_enc_cols = [train_set_A.columns[x] for x in freq_enc_index];freq_enc_cols[:5]"
      ]
    },
    {
      "cell_type": "code",
      "execution_count": null,
      "metadata": {
        "id": "wtwhWyk9Qgrl"
      },
      "outputs": [],
      "source": []
    },
    {
      "cell_type": "code",
      "execution_count": null,
      "metadata": {
        "id": "oIO6yOVaQgrl"
      },
      "outputs": [],
      "source": [
        "train_set_A = train_set_A.fillna(-999)\n",
        "test_set_A = test_set_A.fillna(-999)\n",
        "\n",
        "train_set_B = train_set_B.fillna(-999)\n",
        "test_set_B = test_set_B.fillna(-999)"
      ]
    },
    {
      "cell_type": "code",
      "execution_count": null,
      "metadata": {
        "id": "suN5h6UaQgrl"
      },
      "outputs": [],
      "source": []
    },
    {
      "cell_type": "code",
      "execution_count": null,
      "metadata": {
        "id": "NqnbKP-qQgrl"
      },
      "outputs": [],
      "source": [
        "X_a = train_set_A.drop('h1n1_vaccine',axis=1)\n",
        "y_a = train_set_A['h1n1_vaccine']\n",
        "test_A = test_set_A.copy()\n",
        "\n",
        "X_b = train_set_B.drop('seasonal_vaccine',axis=1)\n",
        "y_b = train_set_B['seasonal_vaccine']\n",
        "test_B = test_set_B.copy()\n",
        "\n"
      ]
    },
    {
      "cell_type": "code",
      "execution_count": null,
      "metadata": {
        "colab": {
          "base_uri": "https://localhost:8080/"
        },
        "id": "W-npSnsIQgrl",
        "outputId": "e6da80b4-604c-4d18-97fb-a04a5ddd3b81"
      },
      "outputs": [
        {
          "data": {
            "text/plain": [
              "array([ 8,  9, 10, 11, 12, 13, 14, 15, 16, 17, 18, 19, 21, 22, 23, 24, 25,\n",
              "       26, 27, 28, 29, 30, 31, 32])"
            ]
          },
          "execution_count": 28,
          "metadata": {},
          "output_type": "execute_result"
        }
      ],
      "source": [
        "categorical_A = np.where(X_a.dtypes == object)[0];categorical_A"
      ]
    },
    {
      "cell_type": "code",
      "execution_count": null,
      "metadata": {
        "colab": {
          "base_uri": "https://localhost:8080/"
        },
        "id": "wPEf-lWOQgrm",
        "outputId": "1c4c36c4-b2c7-4962-ccdd-ffe82191d0fa"
      },
      "outputs": [
        {
          "data": {
            "text/plain": [
              "array([ 8,  9, 10, 11, 12, 13, 14, 15, 16, 17, 18, 19, 21, 22, 23, 24, 25,\n",
              "       26, 27, 28, 29, 30, 31, 32])"
            ]
          },
          "execution_count": 29,
          "metadata": {},
          "output_type": "execute_result"
        }
      ],
      "source": [
        "categorical_B = np.where(X_b.dtypes == object)[0];categorical_B"
      ]
    },
    {
      "cell_type": "code",
      "execution_count": null,
      "metadata": {
        "colab": {
          "background_save": true
        },
        "id": "NSfPj8_1Qgrm"
      },
      "outputs": [],
      "source": [
        "skf = StratifiedKFold(n_splits=10,random_state=42,shuffle=True)\n",
        "cat = CatBoostClassifier(iterations=50000,random_state=42,reg_lambda=30,eval_metric='AUC',custom_loss='Logloss')\n",
        "h1n1_scores = []\n",
        "h1n1_pred= np.zeros(len(test_A))\n",
        "for fold, (train_index,test_index) in enumerate(skf.split(X_a,y_a)):\n",
        "    print(f'====================================== FOLD {fold} ======================================================')\n",
        "    X_train,X_test = X_a.iloc[train_index],X_a.iloc[test_index]\n",
        "    y_train,y_test = y_a.iloc[train_index],y_a.iloc[test_index]\n",
        "    cat.fit(X_train,y_train,early_stopping_rounds=500,eval_set=[(X_train,y_train),(X_test,y_test)],use_best_model=True,cat_features=categorical_A)\n",
        "    h1n1_scores.append(roc_auc_score(y_test,cat.predict_proba(X_test)[:,1]))\n",
        "    h1n1_pred +=cat.predict_proba(test_A)[:,1]"
      ]
    },
    {
      "cell_type": "code",
      "execution_count": null,
      "metadata": {
        "colab": {
          "background_save": true
        },
        "id": "oKo-ciDtQgrm"
      },
      "outputs": [],
      "source": [
        "pred1 = h1n1_pred/10"
      ]
    },
    {
      "cell_type": "code",
      "execution_count": null,
      "metadata": {
        "colab": {
          "background_save": true
        },
        "id": "roqwp5YpQgrm",
        "outputId": "f5a913aa-a17b-4883-96fe-ba8099a7155a"
      },
      "outputs": [
        {
          "data": {
            "text/plain": [
              "0.8733172932348691"
            ]
          },
          "execution_count": null,
          "metadata": {},
          "output_type": "execute_result"
        }
      ],
      "source": [
        "np.mean(h1n1_scores)"
      ]
    },
    {
      "cell_type": "code",
      "execution_count": null,
      "metadata": {
        "colab": {
          "background_save": true
        },
        "id": "RVNh7zS8Qgrm",
        "scrolled": false
      },
      "outputs": [],
      "source": []
    },
    {
      "cell_type": "code",
      "execution_count": null,
      "metadata": {
        "id": "DndruyEOQgrm"
      },
      "outputs": [],
      "source": [
        "#IT19125244\n",
        "skf = StratifiedKFold(n_splits=10,random_state=42,shuffle=True)\n",
        "cat = CatBoostClassifier(iterations=5000,random_state=42,reg_lambda=30,eval_metric='AUC',custom_loss='Logloss')\n",
        "season_scores = []\n",
        "season_pred= np.zeros(len(test_B))\n",
        "for fold, (train_index,test_index) in enumerate(skf.split(X_b,y_b)):\n",
        "    print(f'====================================== FOLD {fold} ======================================================')\n",
        "    X_train,X_test = X_b.iloc[train_index],X_b.iloc[test_index]\n",
        "    y_train,y_test = y_b.iloc[train_index],y_b.iloc[test_index]\n",
        "    cat.fit(X_train,y_train,early_stopping_rounds=500,eval_set=[(X_train,y_train),(X_test,y_test)],use_best_model=True,cat_features=categorical_B)\n",
        "    season_scores.append(roc_auc_score(y_test,cat.predict_proba(X_test)[:,1]))\n",
        "    season_pred +=cat.predict_proba(test_B)[:,1]"
      ]
    },
    {
      "cell_type": "code",
      "execution_count": null,
      "metadata": {
        "id": "O_UuvxO4Qgrn"
      },
      "outputs": [],
      "source": [
        "pred2 = season_pred/10"
      ]
    },
    {
      "cell_type": "code",
      "execution_count": null,
      "metadata": {
        "id": "lNnUZOI-Qgrn"
      },
      "outputs": [],
      "source": [
        "np.mean(season_scores)"
      ]
    },
    {
      "cell_type": "code",
      "execution_count": null,
      "metadata": {
        "id": "hGjNKGmfQgrp"
      },
      "outputs": [],
      "source": []
    }
  ],
  "metadata": {
    "colab": {
      "collapsed_sections": [],
      "name": "Predict H1N1",
      "provenance": []
    },
    "kernelspec": {
      "display_name": "Python 3",
      "name": "python3"
    },
    "language_info": {
      "name": "python"
    }
  },
  "nbformat": 4,
  "nbformat_minor": 0
}
